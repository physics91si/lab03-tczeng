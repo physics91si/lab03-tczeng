{
 "cells": [
  {
   "cell_type": "markdown",
   "metadata": {},
   "source": [
    "# Physics 91SI: Lab 3\n",
    "\n",
    "Part 1\n",
    "------"
   ]
  },
  {
   "cell_type": "code",
   "execution_count": 40,
   "metadata": {},
   "outputs": [],
   "source": [
    "# Don't edit this function\n",
    "def load_sample():\n",
    "    \"\"\"Return the entire text of Hamlet in a string.\"\"\"\n",
    "    with open('hamlet.txt') as f:\n",
    "        sample = f.read()\n",
    "    return sample"
   ]
  },
  {
   "cell_type": "code",
   "execution_count": 41,
   "metadata": {},
   "outputs": [],
   "source": [
    "sample = load_sample()"
   ]
  },
  {
   "cell_type": "code",
   "execution_count": 47,
   "metadata": {},
   "outputs": [],
   "source": [
    "# This function parses a string into a list of words.\n",
    "def parse_sample(sample, words_only = False, sort_list = False): \n",
    "    sample = sample.replace(\"\\n\", \" \")\n",
    "    if (words_only == True):\n",
    "        for a in [\"?\", \"!\", \",\", \".\", \":\", \";\", \"\\\"\", \"\\'\"]:\n",
    "            sample = sample.replace(a, \" \")\n",
    "        sample = sample.lower()\n",
    "        \n",
    "    if (sort_list == True):\n",
    "        return sorted(sample.split())\n",
    "    \n",
    "    return sample.split();\n",
    "                       \n",
    "parsedSample = parse_sample(sample, words_only = True, sort_list = True)\n"
   ]
  },
  {
   "cell_type": "markdown",
   "metadata": {},
   "source": [
    "Part 2\n",
    "------"
   ]
  },
  {
   "cell_type": "code",
   "execution_count": 48,
   "metadata": {},
   "outputs": [
    {
     "name": "stdout",
     "output_type": "stream",
     "text": [
      "{'lord': 310, 'cold': 6, 'bernardo': 30, 'happiness': 1, 'honour': 15}\n"
     ]
    }
   ],
   "source": [
    "def count_freq(lst):\n",
    "    counts = {}\n",
    "    for a in lst:\n",
    "        counts[a] = parsedSample.count(a.lower());\n",
    "    return counts;\n",
    "\n",
    "def mean(lst):\n",
    "    return sum(lst)/len(lst)\n",
    "\n",
    "def stdev(lst):\n",
    "    m = mean(lst)\n",
    "    n = 0.0\n",
    "    for a in lst:\n",
    "        n += (a-m)**2\n",
    "    return (n/len(lst))**0.5;\n",
    "\n",
    "def median(lst):\n",
    "    nlst = sorted(lst)\n",
    "    if(len(lst) % 2 == 1):\n",
    "        return lst[(len(lst)//2)]\n",
    "    else:\n",
    "        return (lst[(len(lst)/2)-1] + lst[len(lst)/2])/2.0\n",
    "\n",
    "# This set of commands tests the functions\n",
    "# print count_freq(['bernardo', 'cold', 'lord', 'happiness', 'honour'])\n",
    "# print mean([1,2,3,4,5])\n",
    "# print stdev([1,2,3,4,5,6])\n",
    "# print median([1,2,3,4,5,6,7,8])\n",
    "# print median([1,2,3,4,5,6])"
   ]
  },
  {
   "cell_type": "markdown",
   "metadata": {},
   "source": [
    "Part 3\n",
    "------"
   ]
  },
  {
   "cell_type": "code",
   "execution_count": 82,
   "metadata": {},
   "outputs": [
    {
     "name": "stdout",
     "output_type": "stream",
     "text": [
      "Word  bernardo     cold         lord         happiness    honour       \n",
      "Freq  30           6            310          1            15           \n",
      "\n",
      "\n",
      "Mean:   72\n",
      "Stdev:  119.209060058\n",
      "Median: 30\n"
     ]
    }
   ],
   "source": [
    "def print_stats(lst):\n",
    "    nDict = count_freq(lst)\n",
    "    meanStrTitle = \"Word  \"\n",
    "    meanTitleTuples = ()\n",
    "    meanStr = \"Freq  \"\n",
    "    meanTuples = ()\n",
    "    for a in lst:\n",
    "        meanStrTitle += \"{:13}\"\n",
    "        meanTitleTuples += tuple([a])\n",
    "        meanStr += \"{:<13d}\"\n",
    "        meanTuples += tuple([nDict[a]])\n",
    "        \n",
    "    print(meanStrTitle.format(*meanTitleTuples))\n",
    "    print(meanStr.format(*meanTuples))\n",
    "    print (\"\\n\")\n",
    "    print (\"Mean:   {}\".format(mean(nDict.values())))\n",
    "    print (\"Stdev:  {}\".format(stdev(nDict.values())))\n",
    "    print (\"Median: {}\".format(median(nDict.values())))\n",
    "\n",
    "# This command tests the functions\n",
    "# print_stats(['bernardo', 'cold', 'lord', 'happiness', 'honour'])\n",
    "\n",
    "\n",
    "    "
   ]
  }
 ],
 "metadata": {
  "kernelspec": {
   "display_name": "Python 2",
   "language": "python",
   "name": "python2"
  },
  "language_info": {
   "codemirror_mode": {
    "name": "ipython",
    "version": 2
   },
   "file_extension": ".py",
   "mimetype": "text/x-python",
   "name": "python",
   "nbconvert_exporter": "python",
   "pygments_lexer": "ipython2",
   "version": "2.7.14"
  }
 },
 "nbformat": 4,
 "nbformat_minor": 1
}
